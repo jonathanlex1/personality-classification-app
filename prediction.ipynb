{
 "cells": [
  {
   "cell_type": "code",
   "execution_count": 2,
   "metadata": {},
   "outputs": [],
   "source": [
    "import tensorflow as tf \n",
    "from tensorflow.keras.models import load_model\n",
    "import pickle \n",
    "import pandas as pd \n",
    "import numpy as np"
   ]
  },
  {
   "cell_type": "code",
   "execution_count": 3,
   "metadata": {},
   "outputs": [
    {
     "name": "stderr",
     "output_type": "stream",
     "text": [
      "WARNING:absl:Compiled the loaded model, but the compiled metrics have yet to be built. `model.compile_metrics` will be empty until you train or evaluate the model.\n"
     ]
    }
   ],
   "source": [
    "#load all utils\n",
    "model = load_model('model.h5')\n",
    "\n",
    "# label encoder\n",
    "with open('encoder_personality.pkl', 'rb') as file : \n",
    "    encoder_personality = pickle.load(file)\n",
    "\n",
    "#standarization scaler\n",
    "with open('scaler.pkl', 'rb') as file : \n",
    "    scaler = pickle.load(file)"
   ]
  },
  {
   "cell_type": "code",
   "execution_count": 4,
   "metadata": {},
   "outputs": [],
   "source": [
    "input_data = {'You regularly make new friends.' : 0,\n",
    "       'You spend a lot of your free time exploring various random topics that pique your interest.' : 0,\n",
    "       'Seeing other people cry can easily make you feel like you want to cry too.' : 0,\n",
    "       'You often make a backup plan for a backup plan.' : 0,\n",
    "       'You usually stay calm, even under a lot of pressure.' : 0,\n",
    "       'At social events, you rarely try to introduce yourself to new people and mostly talk to the ones you already know.' : 0,\n",
    "       'You prefer to completely finish one project before starting another.' : 0,\n",
    "       'You are very sentimental.' : 0,\n",
    "       'You like to use organizing tools like schedules and lists.' : 0,\n",
    "       'Even a small mistake can cause you to doubt your overall abilities and knowledge.' : 0,\n",
    "       'You feel comfortable just walking up to someone you find interesting and striking up a conversation.' : 0,\n",
    "       'You are not too interested in discussing various interpretations and analyses of creative works.' : 0,\n",
    "       'You are more inclined to follow your head than your heart.' : 0,\n",
    "       'You usually prefer just doing what you feel like at any given moment instead of planning a particular daily routine.' : 0,\n",
    "       'You rarely worry about whether you make a good impression on people you meet.' : 0,\n",
    "       'You enjoy participating in group activities.' : 0,\n",
    "       'You like books and movies that make you come up with your own interpretation of the ending.' : 0,\n",
    "       'Your happiness comes more from helping others accomplish things than your own accomplishments.' : 0,\n",
    "       'You are interested in so many things that you find it difficult to choose what to try next.' : 0,\n",
    "       'You are prone to worrying that things will take a turn for the worse.' : 0,\n",
    "       'You avoid leadership roles in group settings.' : 0,\n",
    "       'You are definitely not an artistic type of person.' : 0,\n",
    "       'You think the world would be a better place if people relied more on rationality and less on their feelings.' : 0,\n",
    "       'You prefer to do your chores before allowing yourself to relax.' : 0,\n",
    "       'You enjoy watching people argue.' : 0,\n",
    "       'You tend to avoid drawing attention to yourself.' : 0,\n",
    "       'Your mood can change very quickly.' : 0,\n",
    "       'You lose patience with people who are not as efficient as you.' : 0,\n",
    "       'You often end up doing things at the last possible moment.' : 0,\n",
    "       'You have always been fascinated by the question of what, if anything, happens after death.' : 0,\n",
    "       'You usually prefer to be around others rather than on your own.' : -0,\n",
    "       'You become bored or lose interest when the discussion gets highly theoretical.' : 0,\n",
    "       'You find it easy to empathize with a person whose experiences are very different from yours.' : 0,\n",
    "       'You usually postpone finalizing decisions for as long as possible.' : 0,\n",
    "       'You rarely second-guess the choices that you have made.' : 0,\n",
    "       'after a long and exhausting week, a lively social event is just what you need.' : 0,\n",
    "       'You enjoy going to art museums.' : 3,\n",
    "       'You often have a hard time understanding other people’s feelings.' : 0,\n",
    "       'You like to have a to-do list for each day.' : 0,\n",
    "       'You rarely feel insecure' : 1, 'you avoid making phone calls.' : 0,\n",
    "       'You often spend a lot of time trying to understand views that are very different from your own.' : 0,\n",
    "       'In your social circle, you are often the one who contacts your friends and initiates activities.' : 0,\n",
    "       'If your plans are interrupted, your top priority is to get back on track as soon as possible.' : 0,\n",
    "       'You are still bothered by mistakes that you made a long time ago.' : 0,\n",
    "       'You rarely contemplate the reasons for human existence or the meaning of life.' : 0,\n",
    "       'Your emotions control you more than you control them.' : 0,\n",
    "       'You take great care not to make people look bad, even when it is completely their fault.' : 0,\n",
    "       'Your personal work style is closer to spontaneous bursts of energy than organized and consistent efforts.' : 0,\n",
    "       'When someone thinks highly of you, you wonder how long it will take them to feel disappointed in you.' : 0,\n",
    "       'You would love a job that requires you to work alone most of the time.' : 0,\n",
    "       'You believe that pondering abstract philosophical questions is a waste of time.' : 0,\n",
    "       'You feel more drawn to places with busy, bustling atmospheres than quiet, intimate places.' : 0,\n",
    "       'You know at first glance how someone is feeling.' : 0,\n",
    "       'You often feel overwhelmed.' : 0,\n",
    "       'You complete things methodically without skipping over any steps.' : 0,\n",
    "       'You are very intrigued by things labeled as controversial.' : 0,\n",
    "       'You would pass along a good opportunity if you thought someone else needed it more.' : 0,\n",
    "       'You struggle with deadlines.' : 0,\n",
    "       'You feel confident that things will work out for you.' : 0}"
   ]
  },
  {
   "cell_type": "code",
   "execution_count": 5,
   "metadata": {},
   "outputs": [],
   "source": [
    "#input data to dataframe \n",
    "df = pd.DataFrame([input_data])"
   ]
  },
  {
   "cell_type": "code",
   "execution_count": 6,
   "metadata": {},
   "outputs": [],
   "source": [
    "#lowercase all columns\n",
    "df.columns = df.columns.str.lower()\n",
    "\n",
    "#deleting . in the end of column \n",
    "df.columns = [col.rstrip('.') if isinstance(col, str) and col.endswith('.') else col for col in df.columns]"
   ]
  },
  {
   "cell_type": "code",
   "execution_count": 7,
   "metadata": {},
   "outputs": [
    {
     "data": {
      "text/html": [
       "<div>\n",
       "<style scoped>\n",
       "    .dataframe tbody tr th:only-of-type {\n",
       "        vertical-align: middle;\n",
       "    }\n",
       "\n",
       "    .dataframe tbody tr th {\n",
       "        vertical-align: top;\n",
       "    }\n",
       "\n",
       "    .dataframe thead th {\n",
       "        text-align: right;\n",
       "    }\n",
       "</style>\n",
       "<table border=\"1\" class=\"dataframe\">\n",
       "  <thead>\n",
       "    <tr style=\"text-align: right;\">\n",
       "      <th></th>\n",
       "      <th>you regularly make new friends</th>\n",
       "      <th>you spend a lot of your free time exploring various random topics that pique your interest</th>\n",
       "      <th>seeing other people cry can easily make you feel like you want to cry too</th>\n",
       "      <th>you often make a backup plan for a backup plan</th>\n",
       "      <th>you usually stay calm, even under a lot of pressure</th>\n",
       "      <th>at social events, you rarely try to introduce yourself to new people and mostly talk to the ones you already know</th>\n",
       "      <th>you prefer to completely finish one project before starting another</th>\n",
       "      <th>you are very sentimental</th>\n",
       "      <th>you like to use organizing tools like schedules and lists</th>\n",
       "      <th>even a small mistake can cause you to doubt your overall abilities and knowledge</th>\n",
       "      <th>...</th>\n",
       "      <th>you would love a job that requires you to work alone most of the time</th>\n",
       "      <th>you believe that pondering abstract philosophical questions is a waste of time</th>\n",
       "      <th>you feel more drawn to places with busy, bustling atmospheres than quiet, intimate places</th>\n",
       "      <th>you know at first glance how someone is feeling</th>\n",
       "      <th>you often feel overwhelmed</th>\n",
       "      <th>you complete things methodically without skipping over any steps</th>\n",
       "      <th>you are very intrigued by things labeled as controversial</th>\n",
       "      <th>you would pass along a good opportunity if you thought someone else needed it more</th>\n",
       "      <th>you struggle with deadlines</th>\n",
       "      <th>you feel confident that things will work out for you</th>\n",
       "    </tr>\n",
       "  </thead>\n",
       "  <tbody>\n",
       "    <tr>\n",
       "      <th>0</th>\n",
       "      <td>0</td>\n",
       "      <td>0</td>\n",
       "      <td>0</td>\n",
       "      <td>0</td>\n",
       "      <td>0</td>\n",
       "      <td>0</td>\n",
       "      <td>0</td>\n",
       "      <td>0</td>\n",
       "      <td>0</td>\n",
       "      <td>0</td>\n",
       "      <td>...</td>\n",
       "      <td>0</td>\n",
       "      <td>0</td>\n",
       "      <td>0</td>\n",
       "      <td>0</td>\n",
       "      <td>0</td>\n",
       "      <td>0</td>\n",
       "      <td>0</td>\n",
       "      <td>0</td>\n",
       "      <td>0</td>\n",
       "      <td>0</td>\n",
       "    </tr>\n",
       "  </tbody>\n",
       "</table>\n",
       "<p>1 rows × 60 columns</p>\n",
       "</div>"
      ],
      "text/plain": [
       "   you regularly make new friends  \\\n",
       "0                               0   \n",
       "\n",
       "   you spend a lot of your free time exploring various random topics that pique your interest  \\\n",
       "0                                                  0                                            \n",
       "\n",
       "   seeing other people cry can easily make you feel like you want to cry too  \\\n",
       "0                                                  0                           \n",
       "\n",
       "   you often make a backup plan for a backup plan  \\\n",
       "0                                               0   \n",
       "\n",
       "   you usually stay calm, even under a lot of pressure  \\\n",
       "0                                                  0     \n",
       "\n",
       "   at social events, you rarely try to introduce yourself to new people and mostly talk to the ones you already know  \\\n",
       "0                                                  0                                                                   \n",
       "\n",
       "   you prefer to completely finish one project before starting another  \\\n",
       "0                                                  0                     \n",
       "\n",
       "   you are very sentimental  \\\n",
       "0                         0   \n",
       "\n",
       "   you like to use organizing tools like schedules and lists  \\\n",
       "0                                                  0           \n",
       "\n",
       "   even a small mistake can cause you to doubt your overall abilities and knowledge  \\\n",
       "0                                                  0                                  \n",
       "\n",
       "   ...  you would love a job that requires you to work alone most of the time  \\\n",
       "0  ...                                                  0                       \n",
       "\n",
       "   you believe that pondering abstract philosophical questions is a waste of time  \\\n",
       "0                                                  0                                \n",
       "\n",
       "   you feel more drawn to places with busy, bustling atmospheres than quiet, intimate places  \\\n",
       "0                                                  0                                           \n",
       "\n",
       "   you know at first glance how someone is feeling  \\\n",
       "0                                                0   \n",
       "\n",
       "   you often feel overwhelmed  \\\n",
       "0                           0   \n",
       "\n",
       "   you complete things methodically without skipping over any steps  \\\n",
       "0                                                  0                  \n",
       "\n",
       "   you are very intrigued by things labeled as controversial  \\\n",
       "0                                                  0           \n",
       "\n",
       "   you would pass along a good opportunity if you thought someone else needed it more  \\\n",
       "0                                                  0                                    \n",
       "\n",
       "   you struggle with deadlines  \\\n",
       "0                            0   \n",
       "\n",
       "   you feel confident that things will work out for you  \n",
       "0                                                  0     \n",
       "\n",
       "[1 rows x 60 columns]"
      ]
     },
     "execution_count": 7,
     "metadata": {},
     "output_type": "execute_result"
    }
   ],
   "source": [
    "df"
   ]
  },
  {
   "cell_type": "code",
   "execution_count": 8,
   "metadata": {},
   "outputs": [
    {
     "data": {
      "text/plain": [
       "array([[ 5.12017397e-04,  1.25521159e-03,  2.71256157e-03,\n",
       "         1.57164635e-01,  1.19091572e-01, -3.54092829e-03,\n",
       "         3.34340479e-01,  1.13684608e-03, -8.07320413e-02,\n",
       "         7.36461044e-03,  1.59733244e-01,  2.84784822e-03,\n",
       "         4.50580949e-02,  4.13581948e-02,  5.50263367e-04,\n",
       "         1.18509078e-01, -8.00572846e-02, -4.16731215e-02,\n",
       "         3.62998387e-02,  1.01922407e-03, -2.49604027e-03,\n",
       "        -2.47306015e-01, -3.99513246e-03,  1.41612519e-03,\n",
       "         1.23731936e-01,  4.08847382e-02, -5.78072049e-03,\n",
       "         2.16068148e-03, -1.80477225e-03,  2.52195176e-03,\n",
       "         1.90548621e-01,  6.38040714e-03,  1.92190233e-01,\n",
       "         4.41019505e-03, -7.29529749e-02,  3.30500837e-02,\n",
       "         2.05545606e+00, -9.89799003e-04, -2.38038672e-01,\n",
       "         8.62656058e-01,  3.79742463e-03,  2.36901044e-01,\n",
       "        -7.60669606e-02, -1.19781169e-01,  8.36676400e-02,\n",
       "         1.70871898e-03,  7.69783691e-02, -3.76448227e-03,\n",
       "        -1.13718963e-01,  4.80319609e-03, -6.56035533e-03,\n",
       "         3.73772948e-03, -7.51094340e-02,  3.18121022e-03,\n",
       "        -1.61101430e-01,  4.46220496e-03, -9.06808525e-04,\n",
       "        -8.09671443e-02, -2.32017460e-04, -7.30622978e-02]])"
      ]
     },
     "execution_count": 8,
     "metadata": {},
     "output_type": "execute_result"
    }
   ],
   "source": [
    "#standarization\n",
    "input_scaled=scaler.transform(df)\n",
    "input_scaled"
   ]
  },
  {
   "cell_type": "code",
   "execution_count": 9,
   "metadata": {},
   "outputs": [
    {
     "name": "stdout",
     "output_type": "stream",
     "text": [
      "\u001b[1m1/1\u001b[0m \u001b[32m━━━━━━━━━━━━━━━━━━━━\u001b[0m\u001b[37m\u001b[0m \u001b[1m0s\u001b[0m 358ms/step\n"
     ]
    },
    {
     "data": {
      "text/plain": [
       "array([[0.10478584, 0.0099055 , 0.20493677, 0.03403527, 0.02114178,\n",
       "        0.05626245, 0.01961356, 0.15414958, 0.10735168, 0.01596367,\n",
       "        0.01622309, 0.10647911, 0.0195909 , 0.05906612, 0.04558119,\n",
       "        0.02491354]], dtype=float32)"
      ]
     },
     "execution_count": 9,
     "metadata": {},
     "output_type": "execute_result"
    }
   ],
   "source": [
    "#predict\n",
    "predicted_probabilities = model.predict(input_scaled)\n",
    "predicted_probabilities"
   ]
  },
  {
   "cell_type": "code",
   "execution_count": 10,
   "metadata": {},
   "outputs": [
    {
     "name": "stdout",
     "output_type": "stream",
     "text": [
      "ENTJ\n"
     ]
    }
   ],
   "source": [
    "#change predict to categorical\n",
    "predicted_class_index = np.argmax(predicted_probabilities, axis=1)\n",
    "prediction = encoder_personality.inverse_transform(predicted_class_index)\n",
    "prediction = prediction[0]\n",
    "print(prediction)"
   ]
  }
 ],
 "metadata": {
  "kernelspec": {
   "display_name": "classification_env",
   "language": "python",
   "name": "python3"
  },
  "language_info": {
   "codemirror_mode": {
    "name": "ipython",
    "version": 3
   },
   "file_extension": ".py",
   "mimetype": "text/x-python",
   "name": "python",
   "nbconvert_exporter": "python",
   "pygments_lexer": "ipython3",
   "version": "3.12.0"
  }
 },
 "nbformat": 4,
 "nbformat_minor": 2
}
